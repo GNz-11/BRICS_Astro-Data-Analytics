{
 "cells": [
  {
   "cell_type": "markdown",
   "id": "e9a7d53e-e0d4-426e-827a-3eefc158a169",
   "metadata": {},
   "source": [
    "# Tutorial Objective: How To Create Mock/Fake/Simulated Astronomical Soucrces: Stars/Galaxies?"
   ]
  },
  {
   "cell_type": "markdown",
   "id": "6774c4d9-475a-4b7b-b602-d7a9e06945c2",
   "metadata": {},
   "source": [
    "##### Step-1: Import required library"
   ]
  },
  {
   "cell_type": "code",
   "execution_count": 60,
   "id": "e0d362bc-17b6-4fd6-a35f-5be2a094b4d6",
   "metadata": {},
   "outputs": [],
   "source": [
    "import numpy as np # deals with number and arrays\n",
    "from astropy.io import fits #----fits file i/p\n",
    "import matplotlib.pyplot as ply #---------data visualization'\n",
    "from astropy.modeling.functional_models import Gaussian2D,Sersic2D # modeling of star + galaxy"
   ]
  },
  {
   "cell_type": "markdown",
   "id": "94b83a9a-9d41-4808-afda-c94d9df87b2f",
   "metadata": {},
   "source": [
    "##### Step-2: Create canvas: image size and pixel size"
   ]
  },
  {
   "cell_type": "code",
   "execution_count": 61,
   "id": "ad70b191-2d9f-4be7-875d-737f8cb216a6",
   "metadata": {},
   "outputs": [
    {
     "data": {
      "text/plain": [
       "(300, 300)"
      ]
     },
     "execution_count": 61,
     "metadata": {},
     "output_type": "execute_result"
    }
   ],
   "source": [
    "# def image pixel  size\n",
    "size=300 \n",
    "# create 2D meshgrid\n",
    "x,y=np.meshgrid(np.arange(300),np.arange(300))\n",
    "x.shape # my image pixel size is 300x300"
   ]
  },
  {
   "cell_type": "markdown",
   "id": "db75d419-dcf9-4685-8d99-a9d67be4addf",
   "metadata": {},
   "source": [
    "##### Step-3: Create star image with Gaussian 2D model"
   ]
  },
  {
   "cell_type": "code",
   "execution_count": 62,
   "id": "63ac8f9f-4182-4671-81f5-92cbc4dd4159",
   "metadata": {},
   "outputs": [
    {
     "data": {
      "text/plain": [
       "array([[0.00000000e+000, 0.00000000e+000, 0.00000000e+000, ...,\n",
       "        0.00000000e+000, 0.00000000e+000, 0.00000000e+000],\n",
       "       [0.00000000e+000, 0.00000000e+000, 0.00000000e+000, ...,\n",
       "        0.00000000e+000, 0.00000000e+000, 0.00000000e+000],\n",
       "       [0.00000000e+000, 0.00000000e+000, 0.00000000e+000, ...,\n",
       "        0.00000000e+000, 0.00000000e+000, 0.00000000e+000],\n",
       "       ...,\n",
       "       [0.00000000e+000, 0.00000000e+000, 0.00000000e+000, ...,\n",
       "        1.76969651e-163, 3.58220401e-165, 6.96674729e-167],\n",
       "       [0.00000000e+000, 0.00000000e+000, 0.00000000e+000, ...,\n",
       "        3.58220401e-165, 7.25106564e-167, 1.41020282e-168],\n",
       "       [0.00000000e+000, 0.00000000e+000, 0.00000000e+000, ...,\n",
       "        6.96674729e-167, 1.41020282e-168, 2.74259272e-170]])"
      ]
     },
     "execution_count": 62,
     "metadata": {},
     "output_type": "execute_result"
    }
   ],
   "source": [
    "star=Gaussian2D(amplitude=5,x_mean=200,y_mean=200,x_stddev=5,y_stddev=5)\n",
    "# create star image from  model\n",
    "star_image=star(x,y)\n",
    "star_image"
   ]
  },
  {
   "cell_type": "markdown",
   "id": "9706c3a4-a877-4f62-a3f0-4e1e4c7bb36f",
   "metadata": {},
   "source": [
    "##### Step-4: create a galaxy image with sersic model"
   ]
  },
  {
   "cell_type": "code",
   "execution_count": 63,
   "id": "2516d2eb-613d-40d0-9fdf-1749dcfd36c9",
   "metadata": {},
   "outputs": [
    {
     "data": {
      "text/plain": [
       "<Sersic2D(amplitude=0.5, r_eff=50., n=5., x_0=100., y_0=100., ellip=0.5, theta=0.)>"
      ]
     },
     "execution_count": 63,
     "metadata": {},
     "output_type": "execute_result"
    }
   ],
   "source": [
    "galaxy=Sersic2D(amplitude=0.5,r_eff=50,n=5,x_0=100,y_0=100,theta=np.deg2rad(0),ellip=0.5)\n",
    "galaxy"
   ]
  },
  {
   "cell_type": "code",
   "execution_count": 64,
   "id": "b3ea5437-19e6-4dbe-b05f-6cf0922f4fea",
   "metadata": {},
   "outputs": [
    {
     "data": {
      "text/plain": [
       "array([[0.01707289, 0.01716193, 0.01725085, ..., 0.00930163, 0.00923834,\n",
       "        0.00917544],\n",
       "       [0.01743381, 0.01752605, 0.01761819, ..., 0.00943138, 0.00936662,\n",
       "        0.00930227],\n",
       "       [0.01780399, 0.01789958, 0.01799507, ..., 0.00956282, 0.00949656,\n",
       "        0.00943073],\n",
       "       ...,\n",
       "       [0.00325771, 0.00326349, 0.00326922, ..., 0.00256723, 0.00255944,\n",
       "        0.00255165],\n",
       "       [0.00321243, 0.00321807, 0.00322368, ..., 0.0025363 , 0.00252866,\n",
       "        0.00252102],\n",
       "       [0.00316793, 0.00317345, 0.00317893, ..., 0.00250581, 0.00249832,\n",
       "        0.00249083]])"
      ]
     },
     "execution_count": 64,
     "metadata": {},
     "output_type": "execute_result"
    }
   ],
   "source": [
    "# create galaxy image data as 2D\\\n",
    "galaxy_image=galaxy(x,y)\n",
    "galaxy_image"
   ]
  },
  {
   "cell_type": "markdown",
   "id": "21bd4a9d-b8c6-4d55-8250-7fbb22f73f30",
   "metadata": {},
   "source": [
    "##### Step-5: Combine star + galaxy images"
   ]
  },
  {
   "cell_type": "code",
   "execution_count": 65,
   "id": "ae63f344-2370-4d31-b133-b983a4289dc9",
   "metadata": {},
   "outputs": [
    {
     "data": {
      "text/plain": [
       "array([[0.01707289, 0.01716193, 0.01725085, ..., 0.00930163, 0.00923834,\n",
       "        0.00917544],\n",
       "       [0.01743381, 0.01752605, 0.01761819, ..., 0.00943138, 0.00936662,\n",
       "        0.00930227],\n",
       "       [0.01780399, 0.01789958, 0.01799507, ..., 0.00956282, 0.00949656,\n",
       "        0.00943073],\n",
       "       ...,\n",
       "       [0.00325771, 0.00326349, 0.00326922, ..., 0.00256723, 0.00255944,\n",
       "        0.00255165],\n",
       "       [0.00321243, 0.00321807, 0.00322368, ..., 0.0025363 , 0.00252866,\n",
       "        0.00252102],\n",
       "       [0.00316793, 0.00317345, 0.00317893, ..., 0.00250581, 0.00249832,\n",
       "        0.00249083]])"
      ]
     },
     "execution_count": 65,
     "metadata": {},
     "output_type": "execute_result"
    }
   ],
   "source": [
    "mock_image=star_image+ galaxy_image\n",
    "mock_image"
   ]
  },
  {
   "cell_type": "markdown",
   "id": "b4f7335f-efa5-4d3f-8b56-4e4fc4f58c83",
   "metadata": {},
   "source": [
    "##### Step-6: Visualize mock images"
   ]
  },
  {
   "cell_type": "code",
   "execution_count": 66,
   "id": "23cdf9c9-22b5-49af-9ccc-0a9525a4e751",
   "metadata": {},
   "outputs": [
    {
     "data": {
      "text/plain": [
       "<matplotlib.image.AxesImage at 0x2a559d668d0>"
      ]
     },
     "execution_count": 66,
     "metadata": {},
     "output_type": "execute_result"
    },
    {
     "data": {
      "image/png": "[encoded data removed]",
      "text/plain": [
       "<Figure size 640x480 with 1 Axes>"
      ]
     },
     "metadata": {},
     "output_type": "display_data"
    }
   ],
   "source": [
    "plt.imshow(mock_image,origin='lower',vmin=0.4,vmax=1.5)"
   ]
  },
  {
   "cell_type": "markdown",
   "id": "659f315e-c046-4baa-8fc5-187adc8c98f8",
   "metadata": {},
   "source": [
    "##### Step-7: Save mock images in FITS file format"
   ]
  },
  {
   "cell_type": "code",
   "execution_count": 68,
   "id": "2e44919a-cd68-42c9-a590-c2e85983fff7",
   "metadata": {},
   "outputs": [],
   "source": [
    "fits.writeto('mock_image.fits',mock_image,overwrite=True)"
   ]
  },
  {
   "cell_type": "code",
   "execution_count": 69,
   "id": "41913bd4-8bf3-4b05-8f52-732743558307",
   "metadata": {},
   "outputs": [
    {
     "name": "stdout",
     "output_type": "stream",
     "text": [
      " Volume in drive C is OS\n",
      " Volume Serial Number is 9019-9C71\n",
      "\n",
      " Directory of C:\\Users\\JPrakash\\Documents\\coding\n",
      "\n",
      "23-05-2024  19:05         3,427,200 .~r.fits\n",
      "15-02-2025  12:36         6,405,120 flux_map.fits\n",
      "03-04-2024  10:53        12,447,360 frame-i-005071-3-0347.fits\n",
      "25-05-2024  15:54        12,447,360 frame-r-003918-3-0213.fits\n",
      "03-04-2024  10:54        12,447,360 frame-z-005071-3-0347.fits\n",
      "25-01-2025  19:30           192,960 fuv_star_cutout.fits\n",
      "11-05-2024  23:14     1,555,611,840 J0210_cube.fits\n",
      "05-12-2020  05:44       107,870,400 manga-11863-1901-LOGCUBE.fits\n",
      "06-12-2020  09:50       158,328,000 manga-12510-1902-LINCUBE.fits\n",
      "24-05-2024  18:00       442,800,000 manga-7443-12703-LINCUBE.fits\n",
      "03-12-2020  04:40       514,362,240 manga-7443-12703-LOGCUBE.fits\n",
      "02-08-2024  22:46         2,203,200 masked_fits.fits\n",
      "03-08-2024  00:28         2,208,960 masked_pixel.fits\n",
      "13-09-2024  20:21           129,600 masked_spectrum.fits\n",
      "27-02-2025  13:30           722,880 mock_image.fits\n",
      "21-05-2024  13:19            34,560 multi_extension_file.fits\n",
      "02-09-2022  06:25         3,427,200 r.fits\n",
      "17-08-2024  16:31         2,211,840 r_cut.fits\n",
      "15-02-2025  11:00         6,405,120 r_cutout_new.fits\n",
      "14-02-2025  23:30        44,579,520 sdss_r_on_irac4_header.fits\n",
      "14-02-2025  23:30         3,205,440 seg.fits\n",
      "13-12-2024  19:43         3,600,000 spectra.fits\n",
      "07-09-2024  19:55            20,160 stacked_spectrum.fits\n",
      "25-05-2024  17:16       120,006,720 sub_cube.fits\n",
      "25-05-2024  17:33       160,007,040 sub_data_cube.fits\n",
      "              25 File(s)  3,175,102,080 bytes\n",
      "               0 Dir(s)  52,864,741,376 bytes free\n"
     ]
    }
   ],
   "source": [
    "ls *fits"
   ]
  },
  {
   "cell_type": "code",
   "execution_count": null,
   "id": "a6282e7d-5197-4de8-bbcc-758483de9fac",
   "metadata": {},
   "outputs": [],
   "source": []
  }
 ],
 "metadata": {
  "kernelspec": {
   "display_name": "Python 3 (ipykernel)",
   "language": "python",
   "name": "python3"
  },
  "language_info": {
   "codemirror_mode": {
    "name": "ipython",
    "version": 3
   },
   "file_extension": ".py",
   "mimetype": "text/x-python",
   "name": "python",
   "nbconvert_exporter": "python",
   "pygments_lexer": "ipython3",
   "version": "3.11.7"
  }
 },
 "nbformat": 4,
 "nbformat_minor": 5
}
